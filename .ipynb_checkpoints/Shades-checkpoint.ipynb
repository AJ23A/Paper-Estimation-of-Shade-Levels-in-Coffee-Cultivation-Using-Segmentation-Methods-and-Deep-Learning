{
 "cells": [
  {
   "cell_type": "markdown",
   "id": "f6612c95",
   "metadata": {},
   "source": [
    "#  📋PROCEDIMIENTO:"
   ]
  },
  {
   "cell_type": "markdown",
   "id": "7e164230",
   "metadata": {},
   "source": [
    "1. Encontrar equivalencia pixel (Altura h, tentativamente 28 metros)\n",
    "2. Filtro para Resaltar colores\n",
    "3. Filtro para Resaltar colores (tonalidades verdes) - Idealmente\n",
    "4. Contornos verdes - Find contours\n",
    "5. Filtro morfológico - Máscara - Strell - Kernel 2x2\n",
    "6. Segmentación ( obtención de imagen binaria)\n",
    "7. Multiplicar imagen original con original para que ver segmento\n",
    "\n",
    "Ideas: Segmentar por áreas,  "
   ]
  },
  {
   "cell_type": "markdown",
   "id": "e32efc98",
   "metadata": {},
   "source": [
    "# ✍️Factor $pixel/m^2$"
   ]
  },
  {
   "cell_type": "code",
   "execution_count": 1,
   "id": "dbf0439e",
   "metadata": {},
   "outputs": [
    {
     "name": "stdout",
     "output_type": "stream",
     "text": [
      "Factor área/píxel: 0.007692732014239585\n"
     ]
    }
   ],
   "source": [
    "import math\n",
    "\n",
    "def calculate_area_per_pixel_factor(resolution_horizontal, resolution_vertical, focal_length, drone_height):\n",
    "    # Convertir el ángulo de apertura a radianes\n",
    "    angle_of_view_rad = math.radians(focal_length)\n",
    "    # Calcular el tamaño del píxel en metros en ambas dimensiones\n",
    "    pixel_size_horizontal_m = 2 * drone_height * math.tan(angle_of_view_rad / 2) / resolution_horizontal\n",
    "    pixel_size_vertical_m = 2 * drone_height * math.tan(angle_of_view_rad / 2) / resolution_vertical\n",
    "    # Calcular el factor de conversión de área por píxel (metros cuadrados/píxel)\n",
    "    factor = pixel_size_horizontal_m * pixel_size_vertical_m\n",
    "    return factor\n",
    "\n",
    "# Datos proporcionados\n",
    "resolution_horizontal = 3840  # Resolución horizontal de la imagen en píxeles\n",
    "resolution_vertical = 2160    # Resolución vertical de la imagen en píxeles\n",
    "focal_length_deg = 155         # Ángulo de apertura focal en grados\n",
    "drone_height_m = 28          # Altura del dron sobre el terreno en metros\n",
    "\n",
    "# Calcular el factor de conversión\n",
    "factor = calculate_area_per_pixel_factor(resolution_horizontal, resolution_vertical, focal_length_deg, drone_height_m)\n",
    "\n",
    "print(\"Factor área/píxel:\", factor)\n",
    "\n",
    "# El dron cubre terrenos de 252.60 metros x 252.60 metros, 63806.59 m^2, a 28 m de altitud.\n"
   ]
  },
  {
   "cell_type": "code",
   "execution_count": null,
   "id": "7f87a8fe",
   "metadata": {},
   "outputs": [],
   "source": []
  }
 ],
 "metadata": {
  "kernelspec": {
   "display_name": "Python 3 (ipykernel)",
   "language": "python",
   "name": "python3"
  },
  "language_info": {
   "codemirror_mode": {
    "name": "ipython",
    "version": 3
   },
   "file_extension": ".py",
   "mimetype": "text/x-python",
   "name": "python",
   "nbconvert_exporter": "python",
   "pygments_lexer": "ipython3",
   "version": "3.10.9"
  }
 },
 "nbformat": 4,
 "nbformat_minor": 5
}
